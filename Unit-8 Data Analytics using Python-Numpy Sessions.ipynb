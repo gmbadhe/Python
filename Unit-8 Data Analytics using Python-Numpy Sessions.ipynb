{
 "cells": [
  {
   "cell_type": "code",
   "execution_count": 2,
   "id": "c57f89c2",
   "metadata": {},
   "outputs": [
    {
     "name": "stdout",
     "output_type": "stream",
     "text": [
      "[1 2 3 4 5]\n",
      "[0. 0. 0. 0. 0.]\n",
      "[1. 1. 1. 1. 1.]\n",
      "[0.67455461 0.94118338 0.02060978 0.46084961 0.59215361]\n"
     ]
    }
   ],
   "source": [
    "#Creating arrays in numpy \n",
    "\n",
    "#Using Python lists:\n",
    "import numpy as np\n",
    "arr = np.array([1, 2, 3, 4, 5])\n",
    "print(arr)\n",
    "#Output:\n",
    "#[1 2 3 4 5]\n",
    "\n",
    "#Using built-in functions:\n",
    "import numpy as np\n",
    "zeros = np.zeros(5)\n",
    "print(zeros)\n",
    "\n",
    "ones = np.ones(5)\n",
    "print(ones)\n",
    "\n",
    "rand = np.random.rand(5)\n",
    "print(rand)\n",
    "\n",
    "#Output:\n",
    "#[0. 0. 0. 0. 0.]\n",
    "#[1. 1. 1. 1. 1.]\n",
    "#[0.84282437 0.70539582 0.82060015 0.99619884 0.65457833]\n"
   ]
  },
  {
   "cell_type": "code",
   "execution_count": 3,
   "id": "9b4ebbc9",
   "metadata": {},
   "outputs": [
    {
     "name": "stdout",
     "output_type": "stream",
     "text": [
      "[1 2 3 4 5]\n"
     ]
    }
   ],
   "source": [
    "#Creating a range of numbers:\n",
    "import numpy as np\n",
    "\n",
    "range_arr = np.arange(1, 6)\n",
    "print(range_arr)\n"
   ]
  },
  {
   "cell_type": "code",
   "execution_count": 5,
   "id": "07e483f6",
   "metadata": {},
   "outputs": [
    {
     "name": "stdout",
     "output_type": "stream",
     "text": [
      "Original Array: \n",
      "[1 2 3 4 5 6]\n",
      "Reshaped Array: \n",
      "[[1 2 3]\n",
      " [4 5 6]]\n"
     ]
    }
   ],
   "source": [
    "#Reshaping an array:\n",
    "import numpy as np\n",
    "arr = np.array([1, 2, 3, 4, 5, 6])\n",
    "print(\"Original Array: \")\n",
    "print(arr)\n",
    "reshaped_arr = arr.reshape(2, 3)\n",
    "print(\"Reshaped Array: \")\n",
    "print(reshaped_arr)\n"
   ]
  },
  {
   "cell_type": "code",
   "execution_count": 6,
   "id": "32ad026a",
   "metadata": {},
   "outputs": [
    {
     "name": "stdout",
     "output_type": "stream",
     "text": [
      "[1. 2. 3. 4. 5.]\n"
     ]
    }
   ],
   "source": [
    "#Creating an array with a specified data type:\n",
    "import numpy as np\n",
    "arr = np.array([1, 2, 3, 4, 5], dtype=float)\n",
    "print(arr)"
   ]
  },
  {
   "cell_type": "code",
   "execution_count": 9,
   "id": "f4aa26e3",
   "metadata": {},
   "outputs": [
    {
     "name": "stdout",
     "output_type": "stream",
     "text": [
      "11\n",
      "20\n",
      "[14 15 16 17 18]\n"
     ]
    }
   ],
   "source": [
    "import numpy as np\n",
    "\n",
    "# Create a 1D array\n",
    "arr1 = np.array([11, 12, 13, 14, 15, 16, 17, 18, 19, 20])\n",
    "\n",
    "# Access the first element\n",
    "print(arr1[0])  # Output: 1\n",
    "\n",
    "# Access the last element\n",
    "print(arr1[-1])  # Output: 5\n",
    "\n",
    "# Access a subset of elements\n",
    "print(arr1[3:8])  # Output: [2 3 4]\n"
   ]
  },
  {
   "cell_type": "code",
   "execution_count": 12,
   "id": "0296adc7",
   "metadata": {},
   "outputs": [
    {
     "name": "stdout",
     "output_type": "stream",
     "text": [
      "[ 3  6  9 12 15]\n",
      "[ 2  8 18 32 50]\n"
     ]
    }
   ],
   "source": [
    "#Arithmetic operation on an array\n",
    "import numpy as np\n",
    "\n",
    "# Create two arrays\n",
    "arr1 = np.array([1, 2, 3, 4, 5])\n",
    "arr2 = np.array([2, 4, 6, 8, 10])\n",
    "\n",
    "# Add the arrays\n",
    "arr3 = arr1 + arr2\n",
    "print(arr3)  # Output: [ 3  6  9 12 15]\n",
    "\n",
    "# Multiply the arrays\n",
    "arr4 = arr1 * arr2\n",
    "print(arr4)  # Output: [ 2  8 18 32 50]"
   ]
  },
  {
   "cell_type": "code",
   "execution_count": 13,
   "id": "8b5c1c79",
   "metadata": {},
   "outputs": [
    {
     "name": "stdout",
     "output_type": "stream",
     "text": [
      "[0.0000000e+00 1.0000000e+00 1.2246468e-16]\n"
     ]
    }
   ],
   "source": [
    "#apply various functions to NumPy arrays, such as sin(), cos(), exp(), etc. \n",
    "import numpy as np\n",
    "\n",
    "# Create an array\n",
    "arr1 = np.array([0, np.pi/2, np.pi])\n",
    "\n",
    "# Apply sin() function to the array\n",
    "arr2 = np.sin(arr1)\n",
    "print(arr2)  # Output: [0.         1.         0.        ]"
   ]
  },
  {
   "cell_type": "code",
   "execution_count": 16,
   "id": "66ab50c0",
   "metadata": {},
   "outputs": [
    {
     "name": "stdout",
     "output_type": "stream",
     "text": [
      "1D array: \n",
      "[1 2 3 4 5 6]\n",
      "Reshape the array to a 2D array: \n",
      "[[1 2 3]\n",
      " [4 5 6]]\n",
      "Reshape the array back to a 1D array\n",
      "[1 2 3 4 5 6]\n"
     ]
    }
   ],
   "source": [
    "#Reshaping arrays:\n",
    "#We can reshape a NumPy array using the reshape() function. \n",
    "#This function returns a new array with the same data but a different shape. The reshape() function can be used to convert a 1D array to a 2D array, or vice versa.\n",
    "\n",
    "import numpy as np\n",
    "\n",
    "# Create a 1D array\n",
    "print(\"1D array: \")\n",
    "arr1 = np.array([1, 2, 3, 4, 5, 6])\n",
    "print(arr1)\n",
    "\n",
    "# Reshape the array to a 2D array\n",
    "print(\"Reshape the array to a 2D array: \")\n",
    "arr2 = arr1.reshape(2, 3)\n",
    "print(arr2)\n",
    "\n",
    "# Output:\n",
    "# [[1 2 3]\n",
    "#  [4 5 6]]\n",
    "\n",
    "# Reshape the array back to a 1D array\n",
    "print(\"Reshape the array back to a 1D array\")\n",
    "arr3 = arr2.reshape(6)\n",
    "print(arr3)  # Output: [1 2 3 4 5 6]\n"
   ]
  },
  {
   "cell_type": "code",
   "execution_count": 17,
   "id": "010a1c46",
   "metadata": {},
   "outputs": [
    {
     "name": "stdout",
     "output_type": "stream",
     "text": [
      "Original array:\n",
      " [[5 5 5]\n",
      " [5 5 5]\n",
      " [5 5 5]]\n",
      "\n",
      "Addition:\n",
      " [[10 10 10]\n",
      " [10 10 10]\n",
      " [10 10 10]]\n",
      "\n",
      "Subtraction:\n",
      " [[0 0 0]\n",
      " [0 0 0]\n",
      " [0 0 0]]\n",
      "\n",
      "Multiplication:\n",
      " [[25 25 25]\n",
      " [25 25 25]\n",
      " [25 25 25]]\n",
      "\n",
      "Division:\n",
      " [[1. 1. 1.]\n",
      " [1. 1. 1.]\n",
      " [1. 1. 1.]]\n"
     ]
    }
   ],
   "source": [
    "#Using scalars in numpy\n",
    "\n",
    "#Scalars in NumPy refer to a single value or an element in an array. \n",
    "#Scalars can be used to perform arithmetic operations with arrays or can\n",
    "#be used as an element in an array.\n",
    "\n",
    "#To create a scalar in NumPy, we can use the numpy.array() method and \n",
    "#pass a single value as a parameter.\n",
    "\n",
    "#an example of using scalars in NumPy:\n",
    "\n",
    "import numpy as np\n",
    "\n",
    "# Create a scalar with value 5\n",
    "scalar = np.array(5)\n",
    "\n",
    "# Create an array with shape (3,3) and fill it with scalar values\n",
    "arr = np.full((3,3), scalar)\n",
    "\n",
    "# Perform arithmetic operations with scalar and array\n",
    "addition = arr + scalar\n",
    "subtraction = arr - scalar\n",
    "multiplication = arr * scalar\n",
    "division = arr / scalar\n",
    "\n",
    "# Print the resulting arrays\n",
    "print(\"Original array:\\n\", arr)\n",
    "print(\"\\nAddition:\\n\", addition)\n",
    "print(\"\\nSubtraction:\\n\", subtraction)\n",
    "print(\"\\nMultiplication:\\n\", multiplication)\n",
    "print(\"\\nDivision:\\n\", division)\n"
   ]
  },
  {
   "cell_type": "code",
   "execution_count": null,
   "id": "0c129a94",
   "metadata": {},
   "outputs": [],
   "source": [
    "# Indexing Arrays in numpy\n",
    "\n",
    "#In NumPy, indexing is used to access the elements of an array. \n",
    "#Indexing allows us to retrieve a specific subset of elements from an array.\n",
    "\n",
    "#In NumPy, indexing is similar to indexing in Python lists, but with\n",
    "#additional functionality. We can index NumPy arrays using integers, \n",
    "#slices, boolean arrays, and fancy indexing.\n"
   ]
  },
  {
   "cell_type": "code",
   "execution_count": 18,
   "id": "78bd7617",
   "metadata": {},
   "outputs": [
    {
     "name": "stdout",
     "output_type": "stream",
     "text": [
      "1\n",
      "5\n"
     ]
    }
   ],
   "source": [
    "#1. Indexing with integers:\n",
    "#We can index a NumPy array using integers, which returns a specific \n",
    "#element at the given index. We can also use negative indexing, which \n",
    "#returns an element counting from the end of the array.\n",
    "\n",
    "\n",
    "import numpy as np\n",
    "\n",
    "arr = np.array([1, 2, 3, 4, 5])\n",
    "print(arr[0])     # Output: 1\n",
    "print(arr[-1])    # Output: 5"
   ]
  },
  {
   "cell_type": "code",
   "execution_count": 19,
   "id": "70563db8",
   "metadata": {},
   "outputs": [
    {
     "name": "stdout",
     "output_type": "stream",
     "text": [
      "[2 3 4]\n"
     ]
    }
   ],
   "source": [
    "#2. Slicing arrays:\n",
    "#We can also retrieve a subset of elements from a NumPy array using slicing. Slicing is done by specifying the start index, end index, and step size.\n",
    "\n",
    "import numpy as np\n",
    "\n",
    "arr = np.array([1, 2, 3, 4, 5])\n",
    "print(arr[1:4])   \n",
    "\n",
    " # Output: [2 3 4]"
   ]
  },
  {
   "cell_type": "code",
   "execution_count": 20,
   "id": "c002eca9",
   "metadata": {},
   "outputs": [
    {
     "name": "stdout",
     "output_type": "stream",
     "text": [
      "[False False  True  True  True]\n",
      "[3 4 5]\n"
     ]
    }
   ],
   "source": [
    "#3. Boolean indexing:\n",
    "#Boolean indexing is a powerful feature in NumPy that allows us to\n",
    "#select elements based on a condition. We can create a boolean array by \n",
    "#applying a condition on the original array, and use this boolean array to \n",
    "#select elements from the original array.\n",
    "\n",
    "import numpy as np\n",
    "\n",
    "arr = np.array([1, 2, 3, 4, 5])\n",
    "bool_arr = arr > 2\n",
    "print(bool_arr)    # Output: [False False  True  True  True]\n",
    "print(arr[bool_arr])   # Output: [3 4 5]"
   ]
  },
  {
   "cell_type": "code",
   "execution_count": 21,
   "id": "07d2ad17",
   "metadata": {},
   "outputs": [
    {
     "name": "stdout",
     "output_type": "stream",
     "text": [
      "[1 4 5]\n"
     ]
    }
   ],
   "source": [
    "#4. Fancy indexing:\n",
    "#Fancy indexing refers to indexing an array using another array or a list.\n",
    "#We can use fancy indexing to select a subset of elements from the original\n",
    "#array in any order.\n",
    "\n",
    "import numpy as np\n",
    "\n",
    "arr = np.array([1, 2, 3, 4, 5])\n",
    "idx = np.array([0, 3, 4])\n",
    "print(arr[idx])    # Output: [1 4 5]\n"
   ]
  },
  {
   "cell_type": "code",
   "execution_count": 22,
   "id": "2f3de569",
   "metadata": {},
   "outputs": [
    {
     "name": "stdout",
     "output_type": "stream",
     "text": [
      "Original Array:\n",
      " [[1 2]\n",
      " [3 4]]\n",
      "Transposed Array:\n",
      " [[1 3]\n",
      " [2 4]]\n",
      "Original Array:\n",
      " [[1 2]\n",
      " [3 4]]\n",
      "Transposed Array using T attribute:\n",
      " [[1 3]\n",
      " [2 4]]\n"
     ]
    },
    {
     "data": {
      "text/plain": [
       "'\\nOutput:\\nOriginal Array:\\n [[1 2]\\n [3 4]]\\nTransposed Array:\\n [[1 3]\\n [2 4]]\\nOriginal Array:\\n [[1 2]\\n [3 4]]\\nTransposed Array using T attribute:\\n [[1 3]\\n [2 4]]\\n'"
      ]
     },
     "execution_count": 22,
     "metadata": {},
     "output_type": "execute_result"
    }
   ],
   "source": [
    "#Array Transposition in numpy\n",
    "\n",
    "#In NumPy, transposition is the operation of interchanging rows and\n",
    "#columns of an array. It can be performed using the transpose() method or \n",
    "#the T attribute.\n",
    "\n",
    "import numpy as np\n",
    "\n",
    "# Creating a 2D array\n",
    "arr = np.array([[1, 2], [3, 4]])\n",
    "\n",
    "# Transposing the array using transpose() method\n",
    "transposed_arr = arr.transpose()\n",
    "\n",
    "# Displaying the original and transposed arrays\n",
    "print(\"Original Array:\\n\", arr)\n",
    "print(\"Transposed Array:\\n\", transposed_arr)\n",
    "\n",
    "# Transposing the array using T attribute\n",
    "T_arr = arr.T\n",
    "\n",
    "# Displaying the original and transposed arrays\n",
    "print(\"Original Array:\\n\", arr)\n",
    "print(\"Transposed Array using T attribute:\\n\", T_arr)\n",
    "\n",
    "\n",
    "'''\n",
    "Output:\n",
    "Original Array:\n",
    " [[1 2]\n",
    " [3 4]]\n",
    "Transposed Array:\n",
    " [[1 3]\n",
    " [2 4]]\n",
    "Original Array:\n",
    " [[1 2]\n",
    " [3 4]]\n",
    "Transposed Array using T attribute:\n",
    " [[1 3]\n",
    " [2 4]]\n",
    "'''"
   ]
  },
  {
   "cell_type": "code",
   "execution_count": 23,
   "id": "46f4f757",
   "metadata": {},
   "outputs": [
    {
     "name": "stdout",
     "output_type": "stream",
     "text": [
      "Original Array:\n",
      "[[[ 0  1  2  3]\n",
      "  [ 4  5  6  7]\n",
      "  [ 8  9 10 11]]\n",
      "\n",
      " [[12 13 14 15]\n",
      "  [16 17 18 19]\n",
      "  [20 21 22 23]]]\n",
      "\n",
      "Transposed Array:\n",
      "[[[ 0 12]\n",
      "  [ 1 13]\n",
      "  [ 2 14]\n",
      "  [ 3 15]]\n",
      "\n",
      " [[ 4 16]\n",
      "  [ 5 17]\n",
      "  [ 6 18]\n",
      "  [ 7 19]]\n",
      "\n",
      " [[ 8 20]\n",
      "  [ 9 21]\n",
      "  [10 22]\n",
      "  [11 23]]]\n"
     ]
    },
    {
     "data": {
      "text/plain": [
       "'#Output:\\nOriginal Array:\\n[[[ 0  1  2  3]\\n  [ 4  5  6  7]\\n  [ 8  9 10 11]]\\n\\n [[12 13 14 15]\\n  [16 17 18 19]\\n  [20 21 22 23]]]\\n\\nTransposed Array:\\n[[[ 0 12]\\n  [ 1 13]\\n  [ 2 14]\\n  [ 3 15]]\\n\\n [[ 4 16]\\n  [ 5 17]\\n  [ 6 18]\\n  [ 7 19]]\\n\\n [[ 8 20]\\n  [ 9 21]\\n  [10 22]\\n  [11 23]]]'"
      ]
     },
     "execution_count": 23,
     "metadata": {},
     "output_type": "execute_result"
    }
   ],
   "source": [
    "#transposition in NumPy for a 3-D array:\n",
    "\n",
    "import numpy as np\n",
    "\n",
    "# create a 3-D array\n",
    "arr = np.arange(24).reshape((2, 3, 4))\n",
    "\n",
    "# print the original array\n",
    "print(\"Original Array:\")\n",
    "print(arr)\n",
    "\n",
    "# transpose the array\n",
    "transposed_arr = arr.transpose((1, 2, 0))\n",
    "\n",
    "# print the transposed array\n",
    "print(\"\\nTransposed Array:\")\n",
    "print(transposed_arr)\n",
    "\n",
    "'''#Output:\n",
    "Original Array:\n",
    "[[[ 0  1  2  3]\n",
    "  [ 4  5  6  7]\n",
    "  [ 8  9 10 11]]\n",
    "\n",
    " [[12 13 14 15]\n",
    "  [16 17 18 19]\n",
    "  [20 21 22 23]]]\n",
    "\n",
    "Transposed Array:\n",
    "[[[ 0 12]\n",
    "  [ 1 13]\n",
    "  [ 2 14]\n",
    "  [ 3 15]]\n",
    "\n",
    " [[ 4 16]\n",
    "  [ 5 17]\n",
    "  [ 6 18]\n",
    "  [ 7 19]]\n",
    "\n",
    " [[ 8 20]\n",
    "  [ 9 21]\n",
    "  [10 22]\n",
    "  [11 23]]]'''\n"
   ]
  },
  {
   "cell_type": "code",
   "execution_count": null,
   "id": "496368b6",
   "metadata": {},
   "outputs": [],
   "source": [
    "'''#commonly used ufunc in NumPy are:\n",
    "np.add()\n",
    "np.subtract()\n",
    "np.multiply()\n",
    "np.divide()\n",
    "np.power()\n",
    "np.sqrt()\n",
    "np.exp()\n",
    "np.log()\n",
    "np.sin()\n",
    "np.cos()\n",
    "np.tan()\n",
    "np.arcsin()\n",
    "np.arccos()\n",
    "np.arctan()\n",
    "np.sum()\n",
    "np.mean()\n",
    "np.std()\n",
    "np.min()\n",
    "np.max()'''"
   ]
  },
  {
   "cell_type": "code",
   "execution_count": 24,
   "id": "f79bcd13",
   "metadata": {},
   "outputs": [
    {
     "name": "stdout",
     "output_type": "stream",
     "text": [
      "[6 6 6 6 6]\n",
      "[5 8 9 8 5]\n",
      "[1.         1.41421356 1.73205081 2.         2.23606798]\n",
      "3.0\n"
     ]
    }
   ],
   "source": [
    "import numpy as np\n",
    "\n",
    "arr1 = np.array([1, 2, 3, 4, 5])\n",
    "arr2 = np.array([5, 4, 3, 2, 1])\n",
    "\n",
    "# add the two arrays\n",
    "add_arr = np.add(arr1, arr2)\n",
    "print(add_arr) # [6 6 6 6 6]\n",
    "\n",
    "# multiply the two arrays\n",
    "mul_arr = np.multiply(arr1, arr2)\n",
    "print(mul_arr) # [5 8 9 8 5]\n",
    "\n",
    "# calculate the square root of each element in arr1\n",
    "sqrt_arr = np.sqrt(arr1)\n",
    "print(sqrt_arr) # [1.         1.41421356 1.73205081 2.         2.23606798]\n",
    "\n",
    "# calculate the mean of elements in arr2\n",
    "mean_arr = np.mean(arr2)\n",
    "print(mean_arr) # 3.0\n"
   ]
  },
  {
   "cell_type": "code",
   "execution_count": 32,
   "id": "84d23b36",
   "metadata": {},
   "outputs": [],
   "source": [
    "#Array Input and Output in numpy\n",
    "\n",
    "'''NumPy provides several functions to save and load arrays from disk. \n",
    "This is very useful for large data sets that need to be reused multiple \n",
    "times.\n",
    "\n",
    "The most commonly used file formats for storing NumPy arrays \n",
    "are .npy and .npz. The .npy format stores a single NumPy array in\n",
    "a binary format, while the .npz format stores multiple NumPy arrays \n",
    "in a ZIP archive.\n",
    "\n",
    "examples of how to use the array input and output functions in NumPy:\n",
    "'''"
   ]
  },
  {
   "cell_type": "code",
   "execution_count": 34,
   "id": "d44545eb",
   "metadata": {},
   "outputs": [
    {
     "name": "stdout",
     "output_type": "stream",
     "text": [
      "Array saved to disk successfully...\n"
     ]
    }
   ],
   "source": [
    "#Saving an array to disk\n",
    "import numpy as np\n",
    "# create an array\n",
    "a = np.array([1, 2, 3, 4, 5])\n",
    "\n",
    "# save the array to disk in binary format\n",
    "np.save('my_array', a)\n",
    "print(\"Array saved to disk successfully...\")"
   ]
  },
  {
   "cell_type": "code",
   "execution_count": 35,
   "id": "3e0b691d",
   "metadata": {},
   "outputs": [
    {
     "name": "stdout",
     "output_type": "stream",
     "text": [
      "[1 2 3 4 5]\n"
     ]
    }
   ],
   "source": [
    "#Loading an array from disk\n",
    "import numpy as np\n",
    "\n",
    "# load the array from disk\n",
    "a = np.load('my_array.npy')\n",
    "\n",
    "print(a)\n",
    "# Output: [1 2 3 4 5]\n"
   ]
  },
  {
   "cell_type": "code",
   "execution_count": 37,
   "id": "2617c075",
   "metadata": {},
   "outputs": [
    {
     "name": "stdout",
     "output_type": "stream",
     "text": [
      "multiple arrays to disk in ZIP archive...\n"
     ]
    }
   ],
   "source": [
    "#Saving multiple arrays to disk\n",
    "import numpy as np\n",
    "\n",
    "# create some arrays\n",
    "a = np.array([1, 2, 3, 4, 5])\n",
    "b = np.array([6, 7, 8, 9, 10])\n",
    "\n",
    "# save the arrays to disk in a ZIP archive\n",
    "np.savez('my_arrays.npz', a=a, b=b)\n",
    "print(\"multiple arrays to disk in ZIP archive...\")"
   ]
  },
  {
   "cell_type": "code",
   "execution_count": 38,
   "id": "36db39e9",
   "metadata": {},
   "outputs": [
    {
     "name": "stdout",
     "output_type": "stream",
     "text": [
      "[1 2 3 4 5]\n",
      "[ 6  7  8  9 10]\n"
     ]
    }
   ],
   "source": [
    "# load the arrays from disk\n",
    "arrays = np.load('my_arrays.npz')\n",
    "\n",
    "# access the arrays by name\n",
    "a = arrays['a']\n",
    "b = arrays['b']\n",
    "\n",
    "print(a)\n",
    "# Output: [1 2 3 4 5]\n",
    "\n",
    "print(b)\n",
    "# Output: [ 6  7  8  9 10]"
   ]
  },
  {
   "cell_type": "code",
   "execution_count": null,
   "id": "fa674c87",
   "metadata": {},
   "outputs": [],
   "source": []
  }
 ],
 "metadata": {
  "kernelspec": {
   "display_name": "Python 3 (ipykernel)",
   "language": "python",
   "name": "python3"
  },
  "language_info": {
   "codemirror_mode": {
    "name": "ipython",
    "version": 3
   },
   "file_extension": ".py",
   "mimetype": "text/x-python",
   "name": "python",
   "nbconvert_exporter": "python",
   "pygments_lexer": "ipython3",
   "version": "3.11.1"
  }
 },
 "nbformat": 4,
 "nbformat_minor": 5
}
