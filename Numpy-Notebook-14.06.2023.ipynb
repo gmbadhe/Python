{
 "cells": [
  {
   "cell_type": "code",
   "execution_count": 2,
   "id": "e80ff3b1",
   "metadata": {},
   "outputs": [
    {
     "name": "stdout",
     "output_type": "stream",
     "text": [
      "[ 1  2  3  4  5  6  7  8  9 10]\n"
     ]
    }
   ],
   "source": [
    "import numpy as np\n",
    "arr1=np.array([1,2,3,4,5,6,7,8,9,10])\n",
    "print(arr1)"
   ]
  },
  {
   "cell_type": "code",
   "execution_count": 4,
   "id": "ac36d4b0",
   "metadata": {},
   "outputs": [
    {
     "name": "stdout",
     "output_type": "stream",
     "text": [
      "[[0. 0.]\n",
      " [0. 0.]\n",
      " [0. 0.]]\n"
     ]
    }
   ],
   "source": [
    "import numpy as np\n",
    "\n",
    "empty=np.empty((3,2))\n",
    "print(empty)"
   ]
  },
  {
   "cell_type": "code",
   "execution_count": 5,
   "id": "7f41b71a",
   "metadata": {},
   "outputs": [
    {
     "name": "stdout",
     "output_type": "stream",
     "text": [
      "[[0.21904582 0.59870696]\n",
      " [0.20676896 0.40972415]\n",
      " [0.63159732 0.67906018]]\n"
     ]
    }
   ],
   "source": [
    "import numpy as np\n",
    "\n",
    "ran=np.random.random((3,2))\n",
    "print(ran)"
   ]
  },
  {
   "cell_type": "code",
   "execution_count": 7,
   "id": "d35f47cf",
   "metadata": {},
   "outputs": [
    {
     "name": "stdout",
     "output_type": "stream",
     "text": [
      "[ 1  6 11 16 21]\n"
     ]
    }
   ],
   "source": [
    "import numpy as np\n",
    "\n",
    "evensp=np.arange(1,25,5)\n",
    "print(evensp)\n"
   ]
  },
  {
   "cell_type": "code",
   "execution_count": 18,
   "id": "202e62e0",
   "metadata": {},
   "outputs": [
    {
     "name": "stdout",
     "output_type": "stream",
     "text": [
      "[  0.           4.16666667   8.33333333  12.5         16.66666667\n",
      "  20.83333333  25.          29.16666667  33.33333333  37.5\n",
      "  41.66666667  45.83333333  50.          54.16666667  58.33333333\n",
      "  62.5         66.66666667  70.83333333  75.          79.16666667\n",
      "  83.33333333  87.5         91.66666667  95.83333333 100.        ]\n"
     ]
    }
   ],
   "source": [
    "import numpy as np\n",
    "\n",
    "linesp=np.linspace(0,100,25)\n",
    "print(linesp)\n"
   ]
  },
  {
   "cell_type": "code",
   "execution_count": 23,
   "id": "7882a98b",
   "metadata": {},
   "outputs": [
    {
     "name": "stdout",
     "output_type": "stream",
     "text": [
      "[[5 5]\n",
      " [5 5]\n",
      " [5 5]]\n",
      "(3, 2)\n",
      "2\n",
      "3\n"
     ]
    }
   ],
   "source": [
    "import numpy as np\n",
    "\n",
    "fullar=np.full((3,2),5)\n",
    "print(fullar)\n",
    "print(fullar.shape)\n",
    "print(fullar.ndim)\n",
    "print(len(fullar))"
   ]
  },
  {
   "cell_type": "code",
   "execution_count": 27,
   "id": "153f836b",
   "metadata": {},
   "outputs": [
    {
     "name": "stdout",
     "output_type": "stream",
     "text": [
      "[9 8 7 6 5 4 3 2 1 0]\n"
     ]
    }
   ],
   "source": [
    "#Array Indexing\n",
    "x = np.array([9,8,7,6,5,4,3,2,1,0]) \n",
    "print(x[:]) "
   ]
  },
  {
   "cell_type": "code",
   "execution_count": 28,
   "id": "6a26425f",
   "metadata": {},
   "outputs": [
    {
     "name": "stdout",
     "output_type": "stream",
     "text": [
      "[9 8 7 6 5 4 3 2 1 0]\n"
     ]
    }
   ],
   "source": [
    "#Array Indexing\n",
    "x = np.array([9,8,7,6,5,4,3,2,1,0]) \n",
    "print(x[::]) "
   ]
  },
  {
   "cell_type": "code",
   "execution_count": 29,
   "id": "9ee567f0",
   "metadata": {},
   "outputs": [
    {
     "name": "stdout",
     "output_type": "stream",
     "text": [
      "[9 7 5 3 1]\n"
     ]
    }
   ],
   "source": [
    "#Array Indexing\n",
    "x = np.array([9,8,7,6,5,4,3,2,1,0]) \n",
    "print(x[::2]) "
   ]
  },
  {
   "cell_type": "code",
   "execution_count": 30,
   "id": "c859fd6f",
   "metadata": {},
   "outputs": [
    {
     "name": "stdout",
     "output_type": "stream",
     "text": [
      "[9 6 3 0]\n"
     ]
    }
   ],
   "source": [
    "#Array Indexing\n",
    "x = np.array([9,8,7,6,5,4,3,2,1,0]) \n",
    "print(x[::3])"
   ]
  },
  {
   "cell_type": "code",
   "execution_count": 32,
   "id": "994cf172",
   "metadata": {},
   "outputs": [
    {
     "name": "stdout",
     "output_type": "stream",
     "text": [
      "[3 2 1 0]\n"
     ]
    }
   ],
   "source": [
    "#Array Indexing\n",
    "x = np.array([9,8,7,6,5,4,3,2,1,0,11]) \n",
    "print(x[-5:10]) \n"
   ]
  },
  {
   "cell_type": "code",
   "execution_count": 34,
   "id": "c1a2d555",
   "metadata": {},
   "outputs": [
    {
     "name": "stdout",
     "output_type": "stream",
     "text": [
      "[ 9.  8.  7.  6.  5.  4.  3.  2.  1.  0. 11.]\n"
     ]
    }
   ],
   "source": [
    "x = np.array([9,8,7,6,5,4,3,2,1,0,11]) \n",
    "\n",
    "y=x.astype(float)\n",
    "print(y)"
   ]
  },
  {
   "cell_type": "code",
   "execution_count": 35,
   "id": "c1fe6399",
   "metadata": {},
   "outputs": [
    {
     "name": "stdout",
     "output_type": "stream",
     "text": [
      "[[2 2]\n",
      " [3 3]]\n",
      "2\n"
     ]
    }
   ],
   "source": [
    "import numpy as np\n",
    "a=np.array([[2,2],[3,3]])\n",
    "print(a)\n",
    "print(a.ndim)"
   ]
  },
  {
   "cell_type": "code",
   "execution_count": 36,
   "id": "245d279d",
   "metadata": {},
   "outputs": [
    {
     "name": "stdout",
     "output_type": "stream",
     "text": [
      "[[2 2]\n",
      " [3 3]]\n",
      "2\n",
      "[[7 7]\n",
      " [8 8]]\n",
      "2\n"
     ]
    }
   ],
   "source": [
    "# Arithmetic operations using Numpy \n",
    "import numpy as np\n",
    "a=np.array([[2,2],[3,3]])\n",
    "print(a)\n",
    "print(a.ndim)\n",
    "b=np.array([[7,7],[8,8]])\n",
    "print(b)\n",
    "print(b.ndim)"
   ]
  },
  {
   "cell_type": "code",
   "execution_count": 37,
   "id": "74fd6778",
   "metadata": {},
   "outputs": [
    {
     "name": "stdout",
     "output_type": "stream",
     "text": [
      "[[ 9  9]\n",
      " [11 11]]\n"
     ]
    }
   ],
   "source": [
    "c=a+b\n",
    "print(c)"
   ]
  },
  {
   "cell_type": "code",
   "execution_count": 38,
   "id": "fd791f9a",
   "metadata": {},
   "outputs": [
    {
     "name": "stdout",
     "output_type": "stream",
     "text": [
      "[[-5 -5]\n",
      " [-5 -5]]\n"
     ]
    }
   ],
   "source": [
    "d=a-b\n",
    "print(d)\n"
   ]
  },
  {
   "cell_type": "code",
   "execution_count": null,
   "id": "f9c90f0d",
   "metadata": {},
   "outputs": [],
   "source": []
  }
 ],
 "metadata": {
  "kernelspec": {
   "display_name": "Python 3 (ipykernel)",
   "language": "python",
   "name": "python3"
  },
  "language_info": {
   "codemirror_mode": {
    "name": "ipython",
    "version": 3
   },
   "file_extension": ".py",
   "mimetype": "text/x-python",
   "name": "python",
   "nbconvert_exporter": "python",
   "pygments_lexer": "ipython3",
   "version": "3.11.1"
  }
 },
 "nbformat": 4,
 "nbformat_minor": 5
}
